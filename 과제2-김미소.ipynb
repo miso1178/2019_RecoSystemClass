{
 "cells": [
  {
   "cell_type": "code",
   "execution_count": 1,
   "metadata": {},
   "outputs": [],
   "source": [
    "import pandas as pd\n",
    "import numpy as np\n",
    "from sklearn.model_selection import train_test_split\n",
    "from sklearn.metrics.pairwise import cosine_similarity"
   ]
  },
  {
   "cell_type": "code",
   "execution_count": 2,
   "metadata": {},
   "outputs": [],
   "source": [
    "# Read rating data\n",
    "r_cols = ['user_id', 'movie_id', 'rating', 'timestamp']\n",
    "ratings = pd.read_csv('C:/RecoSys/Data/u.data', names=r_cols,  sep='\\t',encoding='latin-1')"
   ]
  },
  {
   "cell_type": "code",
   "execution_count": 3,
   "metadata": {},
   "outputs": [],
   "source": [
    "#Load the u.user file into a dataframe\n",
    "u_cols = ['user_id', 'age', 'sex', 'occupation', 'zip_code']\n",
    "users = pd.read_csv('C:/RecoSys/Data/u.user', sep='|', names=u_cols, encoding='latin-1')"
   ]
  },
  {
   "cell_type": "code",
   "execution_count": 4,
   "metadata": {},
   "outputs": [],
   "source": [
    "#Load the u.item file into a dataframe\n",
    "i_cols = ['movie_id', 'title', 'release date', 'video release date', 'IMDB URL', \n",
    "          'unknown', 'Action', 'Adventure', 'Animation', 'Children\\'s', 'Comedy', \n",
    "          'Crime', 'Documentary', 'Drama', 'Fantasy', 'Film-Noir', 'Horror', \n",
    "          'Musical', 'Mystery', 'Romance', 'Sci-Fi', 'Thriller', 'War', 'Western']\n",
    "movies = pd.read_csv('C:/RecoSys/Data/u.item', sep='|', names=i_cols, encoding='latin-1')"
   ]
  },
  {
   "cell_type": "code",
   "execution_count": 5,
   "metadata": {},
   "outputs": [],
   "source": [
    "# 모든 유저간 나이차 계산 full matrix \n",
    "user_age = users.pivot_table(values='age', index='user_id')\n",
    "age_diff = np.zeros([len(user_age) , len(user_age)])\n",
    "\n",
    "for i in user_age.index:\n",
    "    age_diff[i-1] = abs(user_age['age'].values - user_age.loc[i].values)\n",
    "    \n",
    "age_diff = pd.DataFrame(age_diff , columns=user_age.index , index=user_age.index)"
   ]
  },
  {
   "cell_type": "code",
   "execution_count": 6,
   "metadata": {},
   "outputs": [],
   "source": [
    "# Rating 데이터를 test, train으로 나누고 train을 full matrix로 변환\n",
    "x = ratings.copy()\n",
    "y = ratings['user_id']\n",
    "x_train, x_test, y_train, y_test = train_test_split(x, y, test_size=0.25, stratify=y, random_state=20)\n",
    "rating_matrix = x_train.pivot_table(values='rating', index='user_id', columns='movie_id')\n",
    "time_matrix = x_train.pivot_table(values='timestamp', index='user_id', columns='movie_id')"
   ]
  },
  {
   "cell_type": "code",
   "execution_count": 7,
   "metadata": {},
   "outputs": [],
   "source": [
    "# RMSE 계산을 위한 함수\n",
    "def RMSE(y_true, y_pred):\n",
    "    return np.sqrt(np.mean((np.array(y_true) - np.array(y_pred))**2))\n",
    "\n",
    "def score2(cf_model, neighbor_size=0):\n",
    "    id_pairs = zip(x_test['user_id'], x_test['movie_id'])\n",
    "    y_pred = np.array([cf_model(user, movie, neighbor_size) for (user, movie) in id_pairs])\n",
    "    y_true = np.array(x_test['rating'])\n",
    "    return RMSE(y_true, y_pred)"
   ]
  },
  {
   "cell_type": "code",
   "execution_count": 8,
   "metadata": {},
   "outputs": [],
   "source": [
    "# 모든 가능한 사용자 pair의 Cosine similarities 계산\n",
    "matrix_dummy = rating_matrix.copy().fillna(0)\n",
    "user_similarity = cosine_similarity(matrix_dummy, matrix_dummy)\n",
    "user_similarity = pd.DataFrame(user_similarity, index=rating_matrix.index, columns=rating_matrix.index)"
   ]
  },
  {
   "cell_type": "code",
   "execution_count": 9,
   "metadata": {},
   "outputs": [],
   "source": [
    "# 모든 user의 rating 평균 계산 \n",
    "rating_mean = rating_matrix.mean(axis=1)"
   ]
  },
  {
   "cell_type": "code",
   "execution_count": 10,
   "metadata": {},
   "outputs": [],
   "source": [
    "def ubcf_sig_weighting(user_id, movie_id, neighbor_size=0):\n",
    "    # 현 user의 평균 가져오기\n",
    "    user_mean = rating_mean[user_id]\n",
    "    if movie_id in rating_matrix:\n",
    "        # 현 user와 다른 사용자 간의 유사도 가져오기\n",
    "        sim_scores = user_similarity[user_id]\n",
    "        # 현 user와 다른 사용자 간의 time gap 가져오기\n",
    "        t_gap = time_gap[user_id]\n",
    "        # 현 movie의 rating 가져오기. 즉, rating_matrix의 열(크기: 943)을 추출\n",
    "        movie_ratings = rating_matrix[movie_id]\n",
    "        # 모든 사용자의 rating 평균 가져오기\n",
    "        others_mean = rating_mean\n",
    "        # 현 user와 다른 사용자 간의 공통 rating개수 가져오기\n",
    "        common_counts = sig_counts[user_id]\n",
    "        # 현 movie에 대한 rating이 없는 user 선택\n",
    "        no_rating = movie_ratings.isnull()\n",
    "        # 공통으로 평가한 영화의 수가 SIG_LEVEL보다 낮은 사람 선택\n",
    "        low_significance = common_counts < SIG_LEVEL\n",
    "        # 영화의 평가시점이 너무 먼 사람을 선택\n",
    "        too_far = t_gap > TIME_GAP\n",
    "        # 나이차가 50 이상 나는 사람 선택\n",
    "        age_gap = age_diff[user_id]\n",
    "        too_much = age_gap >= 50\n",
    "        \n",
    "        # 평가를 안 하였거나, SIG_LEVEL, 평가시점이 기준 이하, 나이차가 50 이상 나는  user 제거\n",
    "        none_rating_idx = movie_ratings[no_rating | low_significance | too_far|too_much].index\n",
    "        movie_ratings = movie_ratings.drop(none_rating_idx)\n",
    "        sim_scores = sim_scores.drop(none_rating_idx)\n",
    "        others_mean = others_mean.drop(none_rating_idx)\n",
    "        if len(movie_ratings) > MIN_RATINGS:    # 충분한 rating이 있는지 확인\n",
    "            if neighbor_size == 0:              # Neighbor size가 지정되지 않은 경우\n",
    "                # 편차로 예측치 계산\n",
    "                movie_ratings = movie_ratings - others_mean\n",
    "                prediction = np.dot(sim_scores, movie_ratings) / sim_scores.sum()\n",
    "                # 예측값에 현 사용자의 평균 더하기\n",
    "                prediction = prediction + user_mean\n",
    "            else:                               # Neighbor size가 지정된 경우\n",
    "                # 지정된 neighbor size 값과 해당 영화를 평가한 총사용자 수 중 작은 것으로 결정\n",
    "                neighbor_size = min(neighbor_size, len(sim_scores))\n",
    "                # array로 바꾸기 (argsort를 사용하기 위함)\n",
    "                sim_scores = np.array(sim_scores)\n",
    "                movie_ratings = np.array(movie_ratings)\n",
    "                others_mean = np.array(others_mean)\n",
    "                # 유사도를 순서대로 정렬\n",
    "                user_idx = np.argsort(sim_scores)\n",
    "                # 유사도, rating, 평균값을 neighbor size만큼 받기 \n",
    "                sim_scores = sim_scores[user_idx][-neighbor_size:]\n",
    "                movie_ratings = movie_ratings[user_idx][-neighbor_size:]\n",
    "                others_mean = others_mean[user_idx][-neighbor_size:]\n",
    "                # 편차로 예측치 계산\n",
    "                movie_ratings = movie_ratings - others_mean\n",
    "                prediction = np.dot(sim_scores, movie_ratings) / sim_scores.sum()\n",
    "                # 예측값에 현 사용자의 평균 더하기\n",
    "                prediction = prediction + user_mean\n",
    "        else:\n",
    "            prediction = user_mean\n",
    "    else:\n",
    "        prediction = user_mean\n",
    "    return prediction"
   ]
  },
  {
   "cell_type": "code",
   "execution_count": 11,
   "metadata": {},
   "outputs": [],
   "source": [
    "# 각 사용자 쌍의 공통 rating 수(significance level)를 집계하기 위한 함수\n",
    "\n",
    "def count_num():       # matrix 연산 이용\n",
    "    # 각 user의 rating 영화를 1로 표시\n",
    "    global rating_matrix\n",
    "    rating_flag1 = np.array((rating_matrix > 0).astype(float))\n",
    "    rating_flag2 = rating_flag1.T\n",
    "    # 사용자별 공통 rating 수 계산\n",
    "    counts = np.dot(rating_flag1, rating_flag2)\n",
    "    return counts"
   ]
  },
  {
   "cell_type": "code",
   "execution_count": 12,
   "metadata": {},
   "outputs": [],
   "source": [
    "def time_gap_calc():\n",
    "    global time_matrix\n",
    "    tg_matrix = np.array(time_matrix)\n",
    "\n",
    "    return np.nanmean(np.abs(tg_matrix[np.newaxis,:,:] - tg_matrix[:,np.newaxis,:]), axis=2)"
   ]
  },
  {
   "cell_type": "code",
   "execution_count": 13,
   "metadata": {},
   "outputs": [
    {
     "name": "stderr",
     "output_type": "stream",
     "text": [
      "C:\\ProgramData\\Anaconda3\\lib\\site-packages\\ipykernel_launcher.py:5: RuntimeWarning: Mean of empty slice\n",
      "  \"\"\"\n"
     ]
    },
    {
     "data": {
      "text/plain": [
       "0.9392773996674373"
      ]
     },
     "execution_count": 13,
     "metadata": {},
     "output_type": "execute_result"
    }
   ],
   "source": [
    "sig_counts = count_num()\n",
    "sig_counts = pd.DataFrame(sig_counts, index=rating_matrix.index, columns=rating_matrix.index)\n",
    "\n",
    "time_gap = time_gap_calc()\n",
    "time_gap = pd.DataFrame(time_gap, index=time_matrix.index, columns=time_matrix.index).fillna(0)\n",
    "\n",
    "SIG_LEVEL = 4       # minimum significance level 지정. 공통적으로 평가한 영화의 수\n",
    "MIN_RATINGS = 2     # 예측치 계산에 사용할 minimum rating 수 지정\n",
    "TIME_GAP = 16000000 # 평가한 시점이 얼마 이상 차이가 날때 제외할지에 대한 기준\n",
    "\n",
    "score2(ubcf_sig_weighting, 37)"
   ]
  },
  {
   "cell_type": "code",
   "execution_count": 16,
   "metadata": {},
   "outputs": [],
   "source": [
    "def calc_all():\n",
    "    x = ratings.copy()\n",
    "    y = ratings['user_id']\n",
    "    \n",
    "    # 기존변수 초기화\n",
    "    global rating_matrix, time_matrix, matrix_dummy, user_similarity, rating_mean, sig_counts, time_gap\n",
    "    \n",
    "    rating_matrix = x.pivot_table(values='rating', index='user_id', columns='movie_id')\n",
    "    time_matrix = x.pivot_table(values='timestamp', index='user_id', columns='movie_id')\n",
    "    \n",
    "    matrix_dummy = rating_matrix.copy().fillna(0)\n",
    "    user_similarity = cosine_similarity(matrix_dummy, matrix_dummy)\n",
    "    user_similarity = pd.DataFrame(user_similarity, index=rating_matrix.index, columns=rating_matrix.index)\n",
    "    \n",
    "    rating_mean = rating_matrix.mean(axis=1)\n",
    "    \n",
    "    sig_counts = count_num()\n",
    "    sig_counts = pd.DataFrame(sig_counts, index=rating_matrix.index, columns=rating_matrix.index)\n",
    "    \n",
    "    time_gap = time_gap_calc()\n",
    "    time_gap = pd.DataFrame(time_gap, index=time_matrix.index, columns=time_matrix.index).fillna(0)\n",
    "    \n",
    "    # 나이차 계산\n",
    "    user_age = users.pivot_table(values='age', index='user_id')\n",
    "    age_diff = np.zeros([len(user_age) , len(user_age)])\n",
    "\n",
    "    for i in user_age.index:\n",
    "        age_diff[i-1] = abs(user_age['age'].values - user_age.loc[i].values)\n",
    "    age_diff = pd.DataFrame(age_diff , columns=user_age.index , index=user_age.index)"
   ]
  },
  {
   "cell_type": "code",
   "execution_count": 17,
   "metadata": {},
   "outputs": [
    {
     "name": "stderr",
     "output_type": "stream",
     "text": [
      "C:\\ProgramData\\Anaconda3\\lib\\site-packages\\ipykernel_launcher.py:5: RuntimeWarning: Mean of empty slice\n",
      "  \"\"\"\n"
     ]
    }
   ],
   "source": [
    "calc_all()"
   ]
  },
  {
   "cell_type": "code",
   "execution_count": 18,
   "metadata": {},
   "outputs": [],
   "source": [
    "def recommend_movie(user_id, neighbor_size=0):\n",
    "    \n",
    "    # movie_id와 predicted_rating을 컬럼으로 갖는 빈 데이터 프레임 생성\n",
    "    predictions = pd.DataFrame( columns=['movie_id', 'predicted_rating'])\n",
    "    predictions['movie_id'] = movies['movie_id']\n",
    "    \n",
    "    # 모든 영화에 대한 해당 유저의 predicted_rating 값을 계산\n",
    "    rating_pred = []\n",
    "    for i in movies['movie_id']:\n",
    "        pred = ubcf_sig_weighting(user_id, i, neighbor_size=0)\n",
    "        rating_pred.append(pred)\n",
    "    predictions['predicted_rating'] = rating_pred\n",
    "    \n",
    "    # predicted_rating을 내림차순 정렬하여 상위 5개 선택\n",
    "    top5_result = predictions.sort_values(by='predicted_rating' , ascending=False).head(5)\n",
    "    \n",
    "    recommended_movies = pd.merge(top5_result, movies[['movie_id', 'title']] , how='left', on='movie_id')['title'].values\n",
    "    \n",
    "    print(\"[영화 추천 리스트]\")\n",
    "    print(\"1. {}\".format(recommended_movies[0]))\n",
    "    print(\"2. {}\".format(recommended_movies[1]))\n",
    "    print(\"3. {}\".format(recommended_movies[2]))\n",
    "    print(\"4. {}\".format(recommended_movies[3]))\n",
    "    print(\"5. {}\".format(recommended_movies[4]))"
   ]
  },
  {
   "cell_type": "code",
   "execution_count": 19,
   "metadata": {},
   "outputs": [
    {
     "name": "stdout",
     "output_type": "stream",
     "text": [
      "[영화 추천 리스트]\n",
      "1. Boys, Les (1997)\n",
      "2. Star Kid (1997)\n",
      "3. Faust (1994)\n",
      "4. Pather Panchali (1955)\n",
      "5. Prefontaine (1997)\n"
     ]
    }
   ],
   "source": [
    "recommend_movie(1)"
   ]
  },
  {
   "cell_type": "code",
   "execution_count": 20,
   "metadata": {},
   "outputs": [
    {
     "name": "stdout",
     "output_type": "stream",
     "text": [
      "[영화 추천 리스트]\n",
      "1. Two or Three Things I Know About Her (1966)\n",
      "2. Pather Panchali (1955)\n",
      "3. Prefontaine (1997)\n",
      "4. Maya Lin: A Strong Clear Vision (1994)\n",
      "5. Close Shave, A (1995)\n"
     ]
    }
   ],
   "source": [
    "recommend_movie(2, 10)"
   ]
  },
  {
   "cell_type": "code",
   "execution_count": null,
   "metadata": {},
   "outputs": [],
   "source": []
  }
 ],
 "metadata": {
  "kernelspec": {
   "display_name": "Python 3",
   "language": "python",
   "name": "python3"
  },
  "language_info": {
   "codemirror_mode": {
    "name": "ipython",
    "version": 3
   },
   "file_extension": ".py",
   "mimetype": "text/x-python",
   "name": "python",
   "nbconvert_exporter": "python",
   "pygments_lexer": "ipython3",
   "version": "3.7.1"
  }
 },
 "nbformat": 4,
 "nbformat_minor": 2
}
